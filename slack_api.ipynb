{
 "cells": [
  {
   "cell_type": "code",
   "execution_count": null,
   "id": "eb26fed5",
   "metadata": {},
   "outputs": [],
   "source": [
    "SLACK_API_TOKEN = \"\""
   ]
  },
  {
   "cell_type": "markdown",
   "id": "04b06077",
   "metadata": {},
   "source": [
    "# Using the Slack API "
   ]
  },
  {
   "cell_type": "markdown",
   "id": "031c123a",
   "metadata": {},
   "source": [
    "- ChatGPT: propose a python code to send a message as a slack user to an user.\n",
    "- ChatGPT: propose a code in python to get all conversations from a Slack channel into a excel file!\n",
    "dd\n",
    "- create app and get token from: https://api.slack.com/apps/\n",
    "- You need sysadmin to authorize it!"
   ]
  },
  {
   "cell_type": "code",
   "execution_count": 12,
   "id": "31b91703",
   "metadata": {},
   "outputs": [],
   "source": [
    "import os\n",
    "from slack_sdk import WebClient\n",
    "from slack_sdk.errors import SlackApiError\n",
    "import pandas as pd\n",
    "from openpyxl import Workbook"
   ]
  },
  {
   "cell_type": "markdown",
   "id": "bf8f4f0c",
   "metadata": {},
   "source": [
    "# Instantiating the app client!"
   ]
  },
  {
   "cell_type": "code",
   "execution_count": null,
   "id": "6737a3d8",
   "metadata": {},
   "outputs": [],
   "source": [
    "# Set the Slack API token\n",
    "client = WebClient(token=SLACK_API_TOKEN )"
   ]
  },
  {
   "cell_type": "markdown",
   "id": "24ef0124",
   "metadata": {},
   "source": [
    "# Send a message to a channel (pretending to be @Jair)!"
   ]
  },
  {
   "cell_type": "code",
   "execution_count": 13,
   "id": "940a2a0b",
   "metadata": {},
   "outputs": [
    {
     "name": "stdout",
     "output_type": "stream",
     "text": [
      "Message sent successfully\n"
     ]
    }
   ],
   "source": [
    "# Define the channel you want to send the message to\n",
    "channel = \"#or\"\n",
    "\n",
    "# Define the message you want to send\n",
    "message = \"good morning!\"\n",
    "\n",
    "try:\n",
    "    # Use the chat.postMessage method to send the message to the channel\n",
    "    response = client.chat_postMessage(channel=channel, text=message)\n",
    "    print(\"Message sent successfully\")\n",
    "except SlackApiError as e:\n",
    "    print(\"Error : {}\".format(e))"
   ]
  },
  {
   "cell_type": "markdown",
   "id": "3779278e",
   "metadata": {},
   "source": [
    "# Send a message to a user (pretending to be @Jair)!"
   ]
  },
  {
   "cell_type": "code",
   "execution_count": 14,
   "id": "d2d121f6",
   "metadata": {},
   "outputs": [
    {
     "name": "stdout",
     "output_type": "stream",
     "text": [
      "Message sent:  1682497696.627179\n"
     ]
    }
   ],
   "source": [
    "user_id = \"UQD77GFPF\" #Mariska\n",
    "\n",
    "message = \"Hello! Have a great day!\"\n",
    "\n",
    "try:\n",
    "    # Call the chat.postMessage method using the WebClient\n",
    "    response = client.chat_postMessage(channel=user_id,text=message)\n",
    "    print(\"Message sent: \", response[\"ts\"])\n",
    "\n",
    "except SlackApiError as e:\n",
    "    print(\"Error sending message: {}\".format(e))\n"
   ]
  },
  {
   "cell_type": "markdown",
   "id": "28cbf44b",
   "metadata": {},
   "source": [
    "# Getting the ID of a channel"
   ]
  },
  {
   "cell_type": "code",
   "execution_count": null,
   "id": "6be4fe41",
   "metadata": {},
   "outputs": [],
   "source": [
    "# Set the name of the channel you want to extract the conversations from\n",
    "channel_name = \"#ai\"\n",
    "\n",
    "# Get the ID of the channel based on the name\n",
    "try:\n",
    "    # Call the conversations.list method using the WebClient\n",
    "    # conversations.list returns a list of all channels in the workspace\n",
    "    result = client.conversations_list()\n",
    "    channels = result['channels']\n",
    "    channel_id = None\n",
    "    for channel in channels:\n",
    "        if channel['name'] == channel_name:\n",
    "            channel_id = channel['id']\n",
    "            break\n",
    "\n",
    "    if channel_id is None:\n",
    "        raise ValueError(\"Channel with name {} not found.\".format(channel_name))\n",
    "\n",
    "except SlackApiError as e:\n",
    "    print(\"Error getting channel ID: {}\".format(e))"
   ]
  },
  {
   "cell_type": "code",
   "execution_count": 11,
   "id": "3b70c54e",
   "metadata": {},
   "outputs": [
    {
     "data": {
      "text/plain": [
       "'your_channel_id'"
      ]
     },
     "execution_count": 11,
     "metadata": {},
     "output_type": "execute_result"
    }
   ],
   "source": [
    "print(channel_name,\": channelid\",channel_id)"
   ]
  },
  {
   "cell_type": "markdown",
   "id": "1acede3f",
   "metadata": {},
   "source": [
    "# Getting all conversation history from a channel"
   ]
  },
  {
   "cell_type": "code",
   "execution_count": 15,
   "id": "e8bad331",
   "metadata": {},
   "outputs": [
    {
     "name": "stdout",
     "output_type": "stream",
     "text": [
      "Error getting conversations: The request to the Slack API failed. (url: https://www.slack.com/api/conversations.history)\n",
      "The server responded with: {'ok': False, 'error': 'missing_scope', 'needed': 'channels:history,groups:history,mpim:history,im:history', 'provided': 'identify,chat:write'}\n"
     ]
    }
   ],
   "source": [
    "channel_id = \"C04KM44RG7R\"\n",
    "\n",
    "# Get all conversations in the channel\n",
    "conversations = []\n",
    "try:\n",
    "    conversation_history = []\n",
    "    # Call the conversations.history method using the WebClient\n",
    "    # conversations.history returns the first 100 messages by default\n",
    "    # These results are paginated, see: https://api.slack.com/methods/conversations.history$pagination\n",
    "    result = client.conversations_history(channel=channel_id)\n",
    "    conversation_history = result['messages']\n",
    "    while result['has_more']:\n",
    "        result = client.conversations_history(channel=channel_id, cursor=result['response_metadata']['next_cursor'])\n",
    "        conversation_history.extend(result['messages'])\n",
    "    conversations.extend(conversation_history)\n",
    "except SlackApiError as e:\n",
    "    print(\"Error getting conversations: {}\".format(e))\n",
    "    \n",
    "# Convert the conversations into a pandas dataframe\n",
    "df = pd.DataFrame.from_dict(conversations)"
   ]
  },
  {
   "cell_type": "code",
   "execution_count": null,
   "id": "22252395",
   "metadata": {},
   "outputs": [],
   "source": [
    "df"
   ]
  },
  {
   "cell_type": "code",
   "execution_count": null,
   "id": "bd173a84",
   "metadata": {},
   "outputs": [],
   "source": [
    "df.to_excel(slack_ai_history.xlsx)"
   ]
  }
 ],
 "metadata": {
  "kernelspec": {
   "display_name": "Python 3",
   "language": "python",
   "name": "python3"
  },
  "language_info": {
   "codemirror_mode": {
    "name": "ipython",
    "version": 3
   },
   "file_extension": ".py",
   "mimetype": "text/x-python",
   "name": "python",
   "nbconvert_exporter": "python",
   "pygments_lexer": "ipython3",
   "version": "3.9.15"
  }
 },
 "nbformat": 4,
 "nbformat_minor": 5
}
